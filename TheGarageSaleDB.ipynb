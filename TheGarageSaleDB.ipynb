{
  "nbformat": 4,
  "nbformat_minor": 0,
  "metadata": {
    "colab": {
      "provenance": [],
      "authorship_tag": "ABX9TyPESt27HUEwgnxC3jlUDuI3",
      "include_colab_link": true
    },
    "kernelspec": {
      "name": "python3",
      "display_name": "Python 3"
    },
    "language_info": {
      "name": "python"
    }
  },
  "cells": [
    {
      "cell_type": "markdown",
      "metadata": {
        "id": "view-in-github",
        "colab_type": "text"
      },
      "source": [
        "<a href=\"https://colab.research.google.com/github/ahmedabdurahim/TheGarageSale/blob/main/TheGarageSaleDB.ipynb\" target=\"_parent\"><img src=\"https://colab.research.google.com/assets/colab-badge.svg\" alt=\"Open In Colab\"/></a>"
      ]
    },
    {
      "cell_type": "markdown",
      "source": [
        "This code is the database manipulation and fyp algorithm part of the TheGarageSale bot written in a separate file which is then imported as TheGarageSaleDB in the main file"
      ],
      "metadata": {
        "id": "AuKY3FqhkT2_"
      }
    },
    {
      "cell_type": "code",
      "source": [
        "# Import code\n",
        "\n",
        "from pymongo import MongoClient\n",
        "import urllib\n",
        "import re\n",
        "import datetime\n",
        "cluster = MongoClient(\"--- MongoDB api link ---\")"
      ],
      "metadata": {
        "id": "ePXbbiGYktjU"
      },
      "execution_count": null,
      "outputs": []
    },
    {
      "cell_type": "markdown",
      "source": [
        "InsertUserId() method adds the userid given to it through the parameter to the database. But first it checks if it exists, if it does already exist then it does not add the user id. If it doesn't exist then it adds the user id to the database"
      ],
      "metadata": {
        "id": "1OMHNic0liYd"
      }
    },
    {
      "cell_type": "code",
      "source": [
        "def InsertUserId(userId):\n",
        "    db = cluster['thegaragesale']\n",
        "    collection = db['User_Id']\n",
        "    if collection.find_one({'user id': userId}) != None:\n",
        "        pass\n",
        "    else:\n",
        "        post = {\"user id\": userId, \"balance\": \"0\", \"state\": \"start\", \"messageID\": \"\", \"ApparelBrowse\": 0, \"AutomobileBrowse\": 0, \"ElectronicsBrowse\": 0, \"FoodAndDrinksBrowse\": 0, \"FreeItemsBrowse\": 0, \"HardwareToolsBrowse\": 0, \"ListItemsCount\": 0}\n",
        "        collection.insert_one(post)"
      ],
      "metadata": {
        "id": "DCDrATpzli_B"
      },
      "execution_count": null,
      "outputs": []
    },
    {
      "cell_type": "markdown",
      "source": [
        "analyticsUpdate() this method updates how the analytics values for the user_id on the database to be later used in fyp algorithms"
      ],
      "metadata": {
        "id": "E8arUvtcmApW"
      }
    },
    {
      "cell_type": "code",
      "source": [
        "def analyticsUpdate(userId, value, valueUpdated):\n",
        "    db = cluster['thegaragesale']\n",
        "    collection = db['User_Id']\n",
        "    filter = {'user id': userId}\n",
        "    newvalues = {\"$set\": {value: valueUpdated}}\n",
        "    collection.update_one(filter, newvalues)"
      ],
      "metadata": {
        "id": "qtukOMo4mBJE"
      },
      "execution_count": null,
      "outputs": []
    },
    {
      "cell_type": "markdown",
      "source": [
        "exists() this method checks for duplicate listings, it takes the description of the listing and the table it is going to be posted to as another parameter and then returns true if the listing already exists and false if it doesn't"
      ],
      "metadata": {
        "id": "rjnD14FUmoej"
      }
    },
    {
      "cell_type": "code",
      "source": [
        "def exists(description,collection):\n",
        "    db = cluster['thegaragesale']\n",
        "    c = re.split(\"\\s\",collection)[1]\n",
        "    if(c==\"Apparel\"):\n",
        "        collection = db['Apparel and clothes']\n",
        "    elif(c==\"Electronics\"):\n",
        "        collection = db['Electronics']\n",
        "    elif (c == \"Automobile\"):\n",
        "        collection = db['Automobile & parts']\n",
        "    elif (c == \"Automobile\"):\n",
        "        collection = db['Automobile & parts']\n",
        "    elif (c == \"Hardware\"):\n",
        "        collection = db['Hardware/tools ']\n",
        "    elif (c == \"Food\"):\n",
        "        collection = db['Food and Drinks']\n",
        "    elif (c == \"Free\"):\n",
        "        collection = db['Free items']\n",
        "    if collection.find_one({'Description': description}) != None:\n",
        "        return True\n",
        "\n",
        "    return False\n"
      ],
      "metadata": {
        "id": "Cpic8KdlmpEe"
      },
      "execution_count": null,
      "outputs": []
    },
    {
      "cell_type": "markdown",
      "source": [
        "userUpdate() methond is used to update fields from the user_id's document in the database."
      ],
      "metadata": {
        "id": "VdI-M374nDiS"
      }
    },
    {
      "cell_type": "code",
      "source": [
        "def userUpdate(userId,param,value):\n",
        "    db = cluster['thegaragesale']\n",
        "    collection = db['User_Id']\n",
        "    filter = {'user id': userId}\n",
        "    if(param==\"price\"):\n",
        "        newvalues = {\"$set\": {'price': value}}\n",
        "    elif(param==\"skip\"):\n",
        "        newvalues = {\"$set\": {'skip': value}}\n",
        "    elif(param == \"tableName\"):\n",
        "        newvalues = {\"$set\": {'tableName': value}}\n",
        "    elif (param == \"photo_id\"):\n",
        "        newvalues = {\"$set\": {'photo_id': value}}\n",
        "    elif (param == \"l_id\"):\n",
        "        newvalues = {\"$set\": {'l_id': value}}\n",
        "    elif (param == \"boost\"):\n",
        "        newvalues = {\"$set\": {'boost': value}}\n",
        "    elif (param == \"onProfile\"):\n",
        "        newvalues = {\"$set\": {'onProfile': value}}\n",
        "    elif (param == \"onProfileDescription\"):\n",
        "        newvalues = {\"$set\": {'onProfileDescription': value}}\n",
        "    elif (param == \"purchase\"):\n",
        "        newvalues = {\"$set\": {'purchase': value}}\n",
        "    else:\n",
        "        newvalues = {\"$set\": {'description': value}}\n",
        "    collection.update_one(filter, newvalues)"
      ],
      "metadata": {
        "id": "oui3CFLTnEGi"
      },
      "execution_count": null,
      "outputs": []
    },
    {
      "cell_type": "markdown",
      "source": [
        "userGet() gets values from the document in the database through specifications given from the parameters"
      ],
      "metadata": {
        "id": "7Zxe-rdmnat_"
      }
    },
    {
      "cell_type": "code",
      "source": [
        "def userGet(userId,param):\n",
        "    db = cluster['thegaragesale']\n",
        "    collection = db['User_Id']\n",
        "    Id = collection.find_one({'user id': userId})\n",
        "    if Id == None:\n",
        "        pass\n",
        "    else:\n",
        "        return Id[str(param)]"
      ],
      "metadata": {
        "id": "fq1OY32BnbMT"
      },
      "execution_count": null,
      "outputs": []
    },
    {
      "cell_type": "markdown",
      "source": [
        "stateUpdate() updates the 'state' field in the user_id document in the database. It helps to keep track of where the user is and what they are doing."
      ],
      "metadata": {
        "id": "5VzVGelqnxg9"
      }
    },
    {
      "cell_type": "code",
      "source": [
        "def stateUpdate(userId, stateName):\n",
        "    db = cluster['thegaragesale']\n",
        "    collection = db['User_Id']\n",
        "    filter = {'user id': userId}\n",
        "    newvalues = {\"$set\": {'state': stateName}}\n",
        "    collection.update_one(filter, newvalues)"
      ],
      "metadata": {
        "id": "TV2VKtsMnyBV"
      },
      "execution_count": null,
      "outputs": []
    },
    {
      "cell_type": "markdown",
      "source": [
        "messageID() when called it saves the message id of the give message id to the field 'messageID' on the database in the user_id table. this will prove usefull to clearing historical messages to make the user experience more clean "
      ],
      "metadata": {
        "id": "0LFmYhCqoMf-"
      }
    },
    {
      "cell_type": "code",
      "source": [
        "def messageID(userId, messageID):\n",
        "    db = cluster['thegaragesale']\n",
        "    collection = db['User_Id']\n",
        "    # msgID = \"\"\n",
        "\n",
        "    col = collection.find({'user id': userId})\n",
        "    for cl in col:\n",
        "        msgID = cl['messageID']\n",
        "\n",
        "    filter = {'user id': userId}\n",
        "    newvalues = {\"$set\": {'messageID': str(msgID) + \" \" + str(messageID)}}\n",
        "    collection.update_one(filter, newvalues)"
      ],
      "metadata": {
        "id": "7zh-8IIEoNL8"
      },
      "execution_count": null,
      "outputs": []
    },
    {
      "cell_type": "markdown",
      "source": [
        "stateGet() Gets the current place the user is navigating in the bot"
      ],
      "metadata": {
        "id": "ZTayNU_7onn1"
      }
    },
    {
      "cell_type": "code",
      "source": [
        "def stateGet(userId):\n",
        "    db = cluster[\"thegaragesale\"]\n",
        "    collection = db['User_Id']\n",
        "    Id = collection.find_one({'user id': userId})\n",
        "\n",
        "    if Id == None:\n",
        "        pass\n",
        "    else:\n",
        "        return Id['state']"
      ],
      "metadata": {
        "id": "oYvm9V0xooRf"
      },
      "execution_count": null,
      "outputs": []
    },
    {
      "cell_type": "markdown",
      "source": [
        "RetrieveUserId() this method has no distnict use, was used for testing puropses. It prints true if the user id is found in the database and false otherwise"
      ],
      "metadata": {
        "id": "xGaEopMNs5tU"
      }
    },
    {
      "cell_type": "code",
      "source": [
        "def RetrieveUserId(userId):\n",
        "    db = cluster[\"thegaragesale\"]\n",
        "    collection = db['User_Id']\n",
        "    Id = collection.find_one({'user id': userId})\n",
        "\n",
        "    if Id == None:\n",
        "        pass\n",
        "    elif Id['user id'] == userId:\n",
        "        print(\"true\")\n",
        "    else:\n",
        "        print(\"false\")"
      ],
      "metadata": {
        "id": "y9WdPWqps7T7"
      },
      "execution_count": null,
      "outputs": []
    },
    {
      "cell_type": "markdown",
      "source": [
        "The GetBalance() method will return the balance for that specific user"
      ],
      "metadata": {
        "id": "ZTYuP0Yvt4T-"
      }
    },
    {
      "cell_type": "code",
      "source": [
        "def GetBalance(userId):\n",
        "    db = cluster[\"thegaragesale\"]\n",
        "    collection = db['User_Id']\n",
        "    Id = collection.find_one({'user id': userId})\n",
        "\n",
        "    if Id == None:\n",
        "        pass\n",
        "    else:\n",
        "        return Id['balance']\n"
      ],
      "metadata": {
        "id": "vwEkQOoMt5nI"
      },
      "execution_count": null,
      "outputs": []
    },
    {
      "cell_type": "markdown",
      "source": [
        "UpdateBalance() method will update the balance of that specific user, to a new balance given in the parameter"
      ],
      "metadata": {
        "id": "XHb5KVqpuIYE"
      }
    },
    {
      "cell_type": "code",
      "source": [
        "def UpdateBalance(userId, newBalance):\n",
        "    db = cluster[\"thegaragesale\"]\n",
        "    collection = db['User_Id']\n",
        "    filter = {'user id': userId}\n",
        "    newvalues = {\"$set\": {'balance': newBalance}}\n",
        "    collection.update_one(filter, newvalues)"
      ],
      "metadata": {
        "id": "iMUhY9kvuIxT"
      },
      "execution_count": null,
      "outputs": []
    },
    {
      "cell_type": "markdown",
      "source": [
        "PostListing() method is the one that commits new listings to the database. It is used in the main file with the post() method"
      ],
      "metadata": {
        "id": "7Gl4NArWugZE"
      }
    },
    {
      "cell_type": "code",
      "source": [
        "def PostListing(category, userId, price, description,photoId,LId,Boost):\n",
        "    db = cluster['thegaragesale']\n",
        "    collection = db[category]\n",
        "    post = {\"Description\": description,\n",
        "            \"user_id\": userId,\n",
        "            \"price\": price,\n",
        "            \"photo_Id\": photoId,\n",
        "            \"l_id\":LId,\n",
        "            \"boost\": Boost\n",
        "            }\n",
        "\n",
        "    collection.insert_one(post)"
      ],
      "metadata": {
        "id": "BEag1RFQug1A"
      },
      "execution_count": null,
      "outputs": []
    },
    {
      "cell_type": "markdown",
      "source": [
        "allPostsForUserId() method returns the array of all posts description from the user."
      ],
      "metadata": {
        "id": "VtkFitJyuwbz"
      }
    },
    {
      "cell_type": "code",
      "source": [
        "def allPostsForUserId(userId):\n",
        "    Posts = []\n",
        "    list = [\"Apparel and clothes\", \"Automobile & parts\", \"Electronics\", \"Food and Drinks\", \"Free items\", \"Gift cards\",\n",
        "            \"Hardware/tools\"]\n",
        "    db = cluster['thegaragesale']\n",
        "    for i in list:\n",
        "        collection = db[i]\n",
        "        X = collection.find({\"user_id\": userId})\n",
        "        for x in X:\n",
        "            Posts.append(x['Description'])\n",
        "    return Posts"
      ],
      "metadata": {
        "id": "Cey7_Enkuw7M"
      },
      "execution_count": null,
      "outputs": []
    },
    {
      "cell_type": "markdown",
      "source": [
        "GetDocumentID() gets the document id of a listing that matches the parameters given to it. used for the callback query for the 'purchase this' button in the main file"
      ],
      "metadata": {
        "id": "C0GmUR_iu_70"
      }
    },
    {
      "cell_type": "code",
      "source": [
        "def GetDocumentID(TableName, description, price):\n",
        "    documentID = None\n",
        "    db = cluster[\"thegaragesale\"]\n",
        "    collection = db[str(TableName)]\n",
        "    X = collection.find({})\n",
        "    for x in X:\n",
        "        if(x['Description'] == str(description) and x['price'] == price):\n",
        "            #print('db file works great')\n",
        "            documentID = x['_id']\n",
        "    return documentID"
      ],
      "metadata": {
        "id": "LcfnLz9fvAdw"
      },
      "execution_count": null,
      "outputs": []
    },
    {
      "cell_type": "markdown",
      "source": [
        "deleteSpecificDocument() deletes the document from the database after taking the document id"
      ],
      "metadata": {
        "id": "qLXymmGSvgS2"
      }
    },
    {
      "cell_type": "code",
      "source": [
        "def deleteSpecificDocument(id):\n",
        "    db=cluster[\"thegaragesale\"]\n",
        "    list = [\"Apparel and clothes\", \"Automobile & parts\", \"Electronics\", \"Food and Drinks\", \"Free items\", \"Gift cards\",\n",
        "            \"Hardware/tools\"]\n",
        "    for i in list:\n",
        "        col=db[i]\n",
        "        filter={'_id': id}\n",
        "        col.delete_one(filter)"
      ],
      "metadata": {
        "id": "hiSCM5pqvg7z"
      },
      "execution_count": null,
      "outputs": []
    },
    {
      "cell_type": "markdown",
      "source": [
        "getDescription() gets the description of a listing, it takes the parameters 'table' which is table name and 'docId' which is the document id, or the unique id for a listing"
      ],
      "metadata": {
        "id": "SEaQ1QKcvwTV"
      }
    },
    {
      "cell_type": "code",
      "source": [
        "def getDescription(table,docId):\n",
        "    db = cluster[\"thegaragesale\"]\n",
        "    collection = db[f'{table}']\n",
        "    col = collection.find({'_id': docId})\n",
        "    for cl in col:\n",
        "        return str(cl['Description'])"
      ],
      "metadata": {
        "id": "HJG3Ft6JvwwW"
      },
      "execution_count": null,
      "outputs": []
    },
    {
      "cell_type": "markdown",
      "source": [
        "get() method fetches the photo id, price and the user id of a listing that was posted. It then returns the whole thing as a string and we split it in the main file with regular expression to make use of it"
      ],
      "metadata": {
        "id": "WqrrkqXPwbhl"
      }
    },
    {
      "cell_type": "code",
      "source": [
        "def get(table,docId):\n",
        "    db = cluster[\"thegaragesale\"]\n",
        "    collection = db[f'{table}']\n",
        "    col = collection.find({'_id': docId})\n",
        "    for cl in col:\n",
        "       return  (str(cl['l_id'])+  \" \"+ str(cl['price']) + \" \" +str(cl['user_id']))"
      ],
      "metadata": {
        "id": "YwQoZHntwcHH"
      },
      "execution_count": null,
      "outputs": []
    },
    {
      "cell_type": "markdown",
      "source": [
        "GetTopBoost() returns the value of the top boosted listing in the bot. It takes the table name to search for as a parameter"
      ],
      "metadata": {
        "id": "bku06eXjwzAS"
      }
    },
    {
      "cell_type": "code",
      "source": [
        "def GetTopBoost(category):\n",
        "    PostData = {'boost': 0, 'description': '', 'price': 0, 'photoId': '', 'userId': 0, 'l_id': ''}\n",
        "    db = cluster[\"thegaragesale\"]\n",
        "    collection = db[category]\n",
        "    X = collection.find({})\n",
        "    for x in X:\n",
        "        if x['boost'] > PostData['boost']:\n",
        "            PostData['boost'] = x['boost']\n",
        "            PostData['description'] = x['Description']\n",
        "            PostData['price'] = x['price']\n",
        "            PostData['photoId'] = x['photo_Id']\n",
        "            PostData['userId'] = x['user_id']\n",
        "            PostData['l_id'] = x['l_id']\n",
        "\n",
        "    tgs = db['the garage sale']\n",
        "    filter = {'Category': str(category)}\n",
        "    newvalues = {\"$set\": {'Description': PostData['description'],\n",
        "                         'user_id': PostData['userId'],\n",
        "                         'price': PostData['price'],\n",
        "                         'photo_Id': PostData['photoId'],\n",
        "                         'l_id': PostData['l_id'],\n",
        "                         'boost': PostData['boost']\n",
        "                        }\n",
        "                }\n",
        "    tgs.update_one(filter, newvalues)\n",
        "\n",
        "    return PostData['boost']"
      ],
      "metadata": {
        "id": "5NBJIr7ywzkL"
      },
      "execution_count": null,
      "outputs": []
    },
    {
      "cell_type": "markdown",
      "source": [
        "The GetUserTendency() method gets the intrests of that specific user to be later used in the FYP functionality. it returns the value as a string and finds the percentage of visitation of a specific category to the total. we then multiply the decimal value by 10 and round it to 0 digits/ no decimals. Finally we concatenate this data to a string and return it. The idea of this code is that for example if the results for 'ApparelBrowse' was 6 then each page on the FYP page would contain 6 Apparel related posts. Each page contains 10 listings. This part is still an idea and not yet implemented fullscale."
      ],
      "metadata": {
        "id": "_nI_c2knxj4v"
      }
    },
    {
      "cell_type": "code",
      "source": [
        "\n",
        "def GetUserTendency(userId):\n",
        "    db = cluster[\"thegaragesale\"]\n",
        "    collection = db['User_Id']\n",
        "    col = collection.find_one({'user id': userId})\n",
        "\n",
        "    Tendency = {'ApparelBrowse': col['ApparelBrowse'], \n",
        "                'AutomobileBrowse': col['AutomobileBrowse'],\n",
        "                'ElectronicsBrowse': col['ElectronicsBrowse'],\n",
        "                'FoodAndDrinksBrowse': col['FoodAndDrinksBrowse'],\n",
        "                'FreeItemsBrowse': col['FreeItemsBrowse'],\n",
        "                'HardwareToolsBrowse': col['HardwareToolsBrowse']\n",
        "               }\n",
        "    added = sum(Tendency.values())\n",
        "    # print(added)\n",
        "    return(str(int(round(Tendency['ApparelBrowse']/added * 10, 0))) \n",
        "           + \" \" + str(int(round(Tendency['AutomobileBrowse']/added * 10, 0))) \n",
        "           + \" \" + str(int(round(Tendency['ElectronicsBrowse']/added * 10, 0))) \n",
        "           + \" \" + str(int(round(Tendency['FoodAndDrinksBrowse']/added * 10, 0)))\n",
        "           + \" \" + str(int(round(Tendency['FreeItemsBrowse']/added * 10, 0)))\n",
        "           + \" \" + str(int(round(Tendency['HardwareToolsBrowse']/added * 10, 0))))"
      ],
      "metadata": {
        "id": "RexPtRaSxjbh"
      },
      "execution_count": null,
      "outputs": []
    }
  ]
}