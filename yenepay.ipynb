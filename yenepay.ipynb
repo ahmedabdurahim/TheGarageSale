{
  "nbformat": 4,
  "nbformat_minor": 0,
  "metadata": {
    "colab": {
      "provenance": [],
      "authorship_tag": "ABX9TyNQwKXg+fL37ask0O7O8IvV",
      "include_colab_link": true
    },
    "kernelspec": {
      "name": "python3",
      "display_name": "Python 3"
    },
    "language_info": {
      "name": "python"
    }
  },
  "cells": [
    {
      "cell_type": "markdown",
      "metadata": {
        "id": "view-in-github",
        "colab_type": "text"
      },
      "source": [
        "<a href=\"https://colab.research.google.com/github/ahmedabdurahim/TheGarageSale/blob/main/yenepay.ipynb\" target=\"_parent\"><img src=\"https://colab.research.google.com/assets/colab-badge.svg\" alt=\"Open In Colab\"/></a>"
      ]
    },
    {
      "cell_type": "markdown",
      "source": [
        "This file is a simple API/websrapper for yenepay.com to generate transaction reference numbers and codes to be used to make deposits in the main file."
      ],
      "metadata": {
        "id": "6F_O9RMSzSfW"
      }
    },
    {
      "cell_type": "code",
      "execution_count": null,
      "metadata": {
        "id": "-h1QhW8SzO4Q"
      },
      "outputs": [],
      "source": [
        "# Import code\n",
        "\n",
        "from time import sleep\n",
        "from selenium import webdriver\n",
        "from selenium.webdriver.support import expected_conditions as EC\n",
        "from selenium.webdriver.support.ui import WebDriverWait\n",
        "from selenium.webdriver.common.by import By\n",
        "from selenium.webdriver.common.action_chains import ActionChains\n",
        "from selenium.webdriver.common.keys import Keys\n",
        "from selenium.webdriver.firefox.options import Options\n",
        "from webdriver_manager.firefox import GeckoDriverManager\n",
        "from selenium.webdriver.firefox.service import Service"
      ]
    },
    {
      "cell_type": "markdown",
      "source": [
        "Make sure the code runs in headless mode to make it faster and smoother"
      ],
      "metadata": {
        "id": "f1hK9zTe1-pe"
      }
    },
    {
      "cell_type": "code",
      "source": [
        "options = Options()\n",
        "options.add_argument(\"-headless\")"
      ],
      "metadata": {
        "id": "EpY41Obe1_PE"
      },
      "execution_count": null,
      "outputs": []
    },
    {
      "cell_type": "markdown",
      "source": [
        "declare username and password of the yenepay.com account to be used"
      ],
      "metadata": {
        "id": "uI4EBzT82LPd"
      }
    },
    {
      "cell_type": "code",
      "source": [
        "username = ''\n",
        "password = ''\n",
        "driver = webdriver.Firefox(service=Service(GeckoDriverManager().install()), options=options)"
      ],
      "metadata": {
        "id": "WQaxmRCR2M3G"
      },
      "execution_count": null,
      "outputs": []
    },
    {
      "cell_type": "markdown",
      "source": [
        "All the following methods are inside class yenepay()."
      ],
      "metadata": {
        "id": "4JPdDKOn2dU6"
      }
    },
    {
      "cell_type": "markdown",
      "source": [
        "Constructor for the yenepay class, fetches the website login page"
      ],
      "metadata": {
        "id": "ssTBy_Mu3AG-"
      }
    },
    {
      "cell_type": "code",
      "source": [
        "def __init__(self):\n",
        "        pass\n",
        "        yenepay.driver.get(\"https://auth.yenepay.com/Account/Login\")\n",
        "        yenepay.Login(self, username, password)"
      ],
      "metadata": {
        "id": "Ad8_Uayr2dw6"
      },
      "execution_count": null,
      "outputs": []
    },
    {
      "cell_type": "markdown",
      "source": [
        "Login() class that logs in to the yenepay account "
      ],
      "metadata": {
        "id": "lp3B0MTu3hN4"
      }
    },
    {
      "cell_type": "code",
      "source": [
        "def Login(self, username, password):\n",
        "        try:\n",
        "            sleep(5)\n",
        "            username_input = yenepay.driver.find_element(\"xpath\",'//*[@id=\"Username\"]')\n",
        "            username_input.send_keys(username)\n",
        "            sleep(1)\n",
        "            password_input = yenepay.driver.find_element('xpath','//*[@id=\"Password\"]')\n",
        "            password_input.send_keys(password)\n",
        "            sleep(1)\n",
        "            WebDriverWait(yenepay.driver, 10).until(EC.element_to_be_clickable((By.XPATH,'//button[text() = \"Sign in\"]'))).click()\n",
        "            sleep(2)\n",
        "            yenepay.driver.execute_script(\"window.scrollTo(0, 1080)\") \n",
        "            WebDriverWait(yenepay.driver, 10).until(EC.element_to_be_clickable((By.XPATH,'/html/body/div[2]/div[2]/div/div/div/div/div[5]/div[2]/div[2]/a'))).click()\n",
        "            WebDriverWait(yenepay.driver, 10).until(EC.element_to_be_clickable((By.XPATH,'//button[text() = \"Continue to Login\"]'))).click()\n",
        "            return True\n",
        "\n",
        "        except Exception as e: \n",
        "            print(e)\n",
        "            return Exception"
      ],
      "metadata": {
        "id": "CQEBosGp3hlp"
      },
      "execution_count": null,
      "outputs": []
    },
    {
      "cell_type": "markdown",
      "source": [
        "ViewTransactions() views transactions to then generate transaction code"
      ],
      "metadata": {
        "id": "lzkKxDN63xHw"
      }
    },
    {
      "cell_type": "code",
      "source": [
        "def ViewTransactions(self):\n",
        "        WebDriverWait(yenepay.driver, 10).until(EC.element_to_be_clickable((By.XPATH,'//*[@id=\"lnkTransaction\"]'))).click()\n",
        "        WebDriverWait(yenepay.driver, 10).until(EC.element_to_be_clickable((By.XPATH,'/html/body/div[2]/div[3]/div[3]/div/div[3]/div[2]/div/div/div/div/div/div[4]/div[1]/div[2]/div/button[2]'))).click()\n",
        "        # sleep(10)\n",
        "        # WebDriverWait(driver, 10).until(EC.element_to_be_clickable((By.XPATH,'/html/body/div[2]/div[3]/div[3]/div/div[3]/div[2]/div/div/div/div/div/div[1]/div/div[2]/div/button[1]'))).click()\n"
      ],
      "metadata": {
        "id": "ZRIUdYLT3xsI"
      },
      "execution_count": null,
      "outputs": []
    },
    {
      "cell_type": "markdown",
      "source": [
        "sendMoney() gets the text for the transaction code and quits the driver to save memory"
      ],
      "metadata": {
        "id": "vsnuL2wX4Aw0"
      }
    },
    {
      "cell_type": "code",
      "source": [
        "def sendMoney(self, phone, amount, msg):\n",
        "        try:\n",
        "            WebDriverWait(yenepay.driver, 100).until(EC.element_to_be_clickable((By.XPATH,'//*[@id=\"lnkBulkPayment\"]'))).click()\n",
        "            WebDriverWait(yenepay.driver, 100).until(EC.element_to_be_clickable((By.XPATH,'/html/body/div[2]/div[3]/div[3]/div/div[2]/div[2]/div/div/div/div/div[1]/div/div[2]/button'))).click()\n",
        "            sleep(2)\n",
        "            PhoneInput = yenepay.driver.find_element('xpath','/html/body/div[2]/div[3]/div[3]/div/div[2]/div[2]/div/div/div/div/div[1]/div/div[3]/table/tbody/tr/td[1]/input')\n",
        "            PhoneInput.send_keys(phone)\n",
        "            sleep(2)\n",
        "            AmountInput = yenepay.driver.find_element('xpath','/html/body/div[2]/div[3]/div[3]/div/div[2]/div[2]/div/div/div/div/div[1]/div/div[3]/table/tbody/tr/td[3]/input')\n",
        "            AmountInput.send_keys(amount)\n",
        "            sleep(2)\n",
        "            msgInput = yenepay.driver.find_element('xpath','/html/body/div[2]/div[3]/div[3]/div/div[2]/div[2]/div/div/div/div/div[2]/textarea')\n",
        "            msgInput.send_keys(msg)\n",
        "            sleep(2)\n",
        "            WebDriverWait(yenepay.driver, 100).until(EC.element_to_be_clickable((By.XPATH,'//*[@id=\"verifyAndPay\"]'))).click()\n",
        "            WebDriverWait(yenepay.driver, 100).until(EC.element_to_be_clickable((By.XPATH,'/html/body/div[2]/div[3]/div/div[2]/div[2]/div[1]/div[2]/div[1]/div/div/div[2]/div/div[3]/div[2]'))).click()\n",
        "            WebDriverWait(yenepay.driver, 100).until(EC.element_to_be_clickable((By.XPATH,'/html/body/div[2]/div[3]/div/div[2]/div[2]/div[1]/div[2]/div[1]/div/div/div[2]/div/div[2]/div[3]/div[1]/a'))).click()\n",
        "            #WebDriverWait(driver, 10).until(EC.element_to_be_clickable((By.XPATH,'/html/body/div[2]/div[3]/div/div[2]/div[2]/div[1]/div[2]/div[1]/div/div/div[2]/div/div[3]/div[2]/h4/span'))).click()\n",
        "            # WebDriverWait(driver, 10).until(EC.element_to_be_clickable((By.XPATH,'/html/body/div[2]/div[3]/div/div[2]/div[2]/div[1]/div[2]/div[1]/div/div/div[2]/div/div[2]/div[3]/div[1]/a'))).click()\n",
        "            sleep(5)\n",
        "            Text = yenepay.driver.find_element(\"xpath\",'/html/body/div[2]/div[3]/div/div[3]/div/div/div/div[2]/div/div/div[2]/div/div/div[2]/div/div/p[3]/b').text\n",
        "            yenepay.driver.quit()\n",
        "            return(Text)\n",
        "        except:\n",
        "            yenepay.driver.quit()\n",
        "            return(False)"
      ],
      "metadata": {
        "id": "I65WNQHK4BxW"
      },
      "execution_count": null,
      "outputs": []
    }
  ]
}