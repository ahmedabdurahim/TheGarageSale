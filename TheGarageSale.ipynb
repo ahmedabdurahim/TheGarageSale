{
  "nbformat": 4,
  "nbformat_minor": 0,
  "metadata": {
    "colab": {
      "provenance": [],
      "authorship_tag": "ABX9TyMMFpqJv6JwGi7EcAzv4+EV",
      "include_colab_link": true
    },
    "kernelspec": {
      "name": "python3",
      "display_name": "Python 3"
    },
    "language_info": {
      "name": "python"
    }
  },
  "cells": [
    {
      "cell_type": "markdown",
      "metadata": {
        "id": "view-in-github",
        "colab_type": "text"
      },
      "source": [
        "<a href=\"https://colab.research.google.com/github/ahmedabdurahim/TheGarageSale/blob/main/TheGarageSale.ipynb\" target=\"_parent\"><img src=\"https://colab.research.google.com/assets/colab-badge.svg\" alt=\"Open In Colab\"/></a>"
      ]
    },
    {
      "cell_type": "markdown",
      "source": [
        "The following code is code and documentation concept for a simple yet efficient ecommerce telegram bot with a simple/primitive 'for you' page and algorithm "
      ],
      "metadata": {
        "id": "sU5fhfuuG9ov"
      }
    },
    {
      "cell_type": "markdown",
      "source": [
        "We import code that will be used along with the current one. TheGarageSaleDB.py and yenepay.py are separate python files included in this folder. The rest are python libraries installed with the 'pip' functionality"
      ],
      "metadata": {
        "id": "X_m4lz_CJe8x"
      }
    },
    {
      "cell_type": "code",
      "source": [
        "#import code\n",
        "\n",
        "import pyrogram\n",
        "from pyrogram import Client, filters\n",
        "from pyrogram.types import InlineKeyboardMarkup, InlineKeyboardButton\n",
        "import TheGarageSaleDB as db\n",
        "from operator import itemgetter\n",
        "import re"
      ],
      "metadata": {
        "id": "nNGsNcIMHS9V"
      },
      "execution_count": null,
      "outputs": []
    },
    {
      "cell_type": "markdown",
      "source": [
        "The cell below creates the connection of the python program to the telegram bot. We will need bot name, Api id, Api hash and bot token"
      ],
      "metadata": {
        "id": "K-FQ9dOmKA-p"
      }
    },
    {
      "cell_type": "code",
      "source": [
        "bot = Client(name='thegaragesale', api_id='api id', api_hash='apiHash',bot_token='bot_token')\n",
        "\n",
        "\n",
        "#this variable don't have much use, they were delared for testing purposes and were forgotten about :)\n",
        "\n",
        "descriptionDict = {'description': ''}\n",
        "priceDict = {'price': 0}"
      ],
      "metadata": {
        "id": "VCTGTq_QKZ2F"
      },
      "execution_count": null,
      "outputs": []
    },
    {
      "cell_type": "markdown",
      "source": [
        "Next cell holds the function for the main menu for the bot. It is the function that is called when the /start button is clicked through the telegram bot \n",
        "\n",
        "![Screenshot from 2023-04-23 11-15-44.png](data:image/png;base64,iVBORw0KGgoAAAANSUhEUgAAAX0AAALJCAYAAABYyvOvAAAABHNCSVQICAgIfAhkiAAAABl0RVh0U29mdHdhcmUAZ25vbWUtc2NyZWVuc2hvdO8Dvz4AAAAtdEVYdENyZWF0aW9uIFRpbWUAU3VuIDIzIEFwciAyMDIzIDExOjE1OjQ0IEFNIEVBVHATLpcAACAASURBVHic7N13dBRVH8bx7+ymV9ILoYUSqvQqShOpghQL+qKIYAEBERAVkWKjSlGKCKgICiIgiNKr9NBBeoeEkBBIb5vdef9YsiSkB0gI8/uc4znJTrl3Z+XZmzt37lXKVGmgIoQQD4m1jW1RV0GkoyvqCgghhCg8EvpCCKEhEvpCCKEhEvpCCKEhEvpCCKEhEvpCCKEhVklJ8UVdByHEY0wy5tEiLX0hhNAQCX0hhNAQCX0hhNAQCX0hhNAQCX0hhNAQqwdyEkc3XMvXw6lUdWycPbCyd873OVITY0mJjSTu6nGiz+8nNf72g6haBoqiUCWoIm2eaU6NapUpX7YMHu5uODo5AhAfF0/krducv3SZY/+dYt3GrZw8fRZVlTnphBCPB8WnXLUCJ5qit8arTnvcqzyNon8g3x8AqMZUbp3cTsTBf1CNhvs+X+VKFXi5W2fatG5OqZL+d8vJJswVRbH8fDUklHUbtvLbHys5ffbcfddFCCGKUoFD38remYBWfbH3KvOg62SRGHGJa5vmkpoYW6DjS/r5MnTQu3Tr3B6dTmcJ+ejoaE6dOsXFixeJiIggOTkZAFtbW7y8vAgMDKRSpUqUKFHCci5VVVm28h8mTp1JaNiN+39zQghRBAoU+oremjLtBjzUwE+TGHGJy2u+y1eL39ramqED36Zvr1exsbFBVVWioqJYt349hw8dwtnZmaCgICpVqoSXlxe2tub5vpOTk4mIiODMmTOcPn2amJgYateuTdu2bXF1dUVRFFJSUvjhp0VMmv49BsP9/xUihBCFqUCh712/Mx7VWz6M+mQp8vhmwoNX5mlfD/cS/PDtJOrXqw2qSlxcHPPmzSMiIoLnnnuOunXrYmV1tysqrSsnq66e1NRUDhw4wF+rV+Pp6cmbvXvj7Gy+X7E3+CBvD/qQyFtRD+AdCiFE4ch36Fs5ulGh26d57sN/qrIXLzcpQ1kvJ5JSjKw/dp05G8+hAoHeTrzfPohKfi5Ex6ewePdlVgRfy3QO1ZjKuWVf5Hpzt0pQRX6cPYWSfr4ArF27lg0bNtC3b18qV65sfsOKQkxMDM7Ozpw/fx5ra2vc3d05c+YMNWrU4NKlS1SoUIHY2FicnJzQ6/WoqsqpU6f44YcfaN26NW3btkVRFK6GhNL73Q84efpsfi6hEEIUmXwP2XQtXy9fN22rBrhy4MItPvv9KL/uvMRLjcvQqoY5lD/uXJWEZCPvzN3Hr7suM7BtEOV9nDKdQ9Fb4RpYL8dyqgRVZMVv8yjp70dycjLjJ0wg8tYtJk6cSJUqVQAICQkhNTWVkJAQbt++ja+vL97e3tjZ2VG9enWsrKwsXT2nT58GRbH8BVC5cmUmTpxIZGQk48aNIykpiQB/P1b8No8qQRXzfD3yY8aUcaxbufihnFtLDu7YwJgRw4q6GkI8EvI95MapVPV87f/9xrsjXg5cvMWrTcvi62oHgIuDNZv+u8GliHhux6fwfrsgnO2ssy63dDUij23IcpuHewl+nD0FR0dH4uPi+PLLL+nSpQv169dHSRfcKSkppKSkZGj1q6qKqqro9XoURaF0mTIoQN26ddHpdHDnfkBSUhJ+fn68+uqrBAcHM3rMGD4dMQJHR0d+nD2FDt3+l++unlW/L6B61cpZbmv7fI98nSsvXJyd6Nf3DVq3bEZJf1+SUwxcvHSZ6bPmsnnbjgde3oNUKsCfkcM/oEHd2uit9Fy8dIXv5y/g77Ubi7pqQhQr+Q59G2ePAhVkZ62nRTVvHGyt2HnmJgC/7rjMW63KA+ZuoL3nIjlyJevgtHHKulxra2t++HYSAf5+JCUl8eWXX9KzZ0+qVKmCwWAgIiICf3/zMM1y5coBkJCQQGxsLIqioNPpMvTrG41GAJycnHB0NI/fVxQFR0dHoqKisLOzo379+jg5OfHFF18wevRoAvz9mDN9Ii+/0S9fN3dHfj4eJ0dHnJ0cmTl1PL8tXcE/6zYBcC001FKnB6FECVeWLZpHgL8fv/z2B4eOHkOv01OjehXCboQ/kDIepslfj8Hf14cxX08ixWDgierViI2NK+pqCVHs5Dv0dbYO+S5kTPcaPF3Fm2SDkZnrz3Ax3PyPddfZCLrUD+CNZoGowKdLjmQbcjo7xyxfHzrwbRrUq42qqkydOpWuXbtSpUoVUlNT0ev1REdH4+fnh6IoxMXFWfrqfXx8MvwVkP5ngLi4OEKvX8fJ0RFXV1cATp48SWCgua5VqlSha7duTJk6lY+GD6dBvdoMGfAW476ZkefrcuTYfwC43RkaeunyFXbu2Zdhn4SERIYO6sdrr7yAwWBg9ZoNjPl6MiaTCYAXujzH271fw8fHixOnzjDqiwmcOpP5eYKB7/ShXJnS9Hp7INt37rG8vuqfdRn2G/ze2zzX/ln8fLy5GXmL7+ctYOGSZYC5uyki4ibnL15myIB3WLbybz4f/02Ox1StXIkxn35IUMXyODne/Qx7vPEOe4MP5rn+QRUr8Odf/7DirzUAGVr4jg4OfDn6YxrWq0MJVxfOX7zM5+O/YW/wwSyve17LFOJxlO8+fVNyQr4LmbXxLP3n72fWhnO827oiPZqUwUqn8E3POpwIiaHTxG3MXH+Gr1+uyROlS2R5DlMWc3KX9POlb69XUVWVtWvXUqpUKerVM/f9Hz5yhJiYmLv9+Xdazn5+fri4uFha9+kfxFIUxfK7k5MT/n5+6PV6QkJCMKkqVapUwWg0cvXqVRRFoX69epQKCGDt2rUAvPXG//D39cn39clJzRrV8HB3o/c77/Pb0j/p2eMF2rRqDkCr5k8x/vORLP7jTzq/+DoRETeZN3MK9vZ2mc7TsllTjv130hL4tra2ODo44OjgYLmPYb5O1/l60nQ6dPsfW//dzZhPP6RMqQDL9k7t2/By9+eZOG0GK/76J9djpk34gsjIW9Ru0oq3BgwFoNfbA9kbfDBf9d+87V9e6NKJXv97CUeHjA2P+IQELl66wqAPR/Lci6+RkpLC5K9GZ3k981OmEI+jfId+SmxkvgsJi0riREg0Kw9c4/jVaOoGulPa05EAdwcW7rhIcqqJVQdCOH09lieDvLIuNy5zuUMHvYuNjQ1xcXFs3LiRl19+GZPJREJiItWrVcPNzY1Uo5Hr16/j5+uLk7NzhpC/V/pWf9p/jo6O+Pn5EXb9OgaDAQcHB3y8vYmMjMRgMNCjRw82btxIbFwcNjY2DBv0br6vT04SEhP57IsJ7D90hGkzf0BVVSpWCATgxa6duHjpCnN/XsSFS5eZNnMufr4+1KqR+b6Lh4cbV66GWH7/fvpEju3byrF9W5k5ZZzl9d+Xr2LD5m1cuHSZpStWoSgKZcuWtmx3cLCnZ5/+LFqynOMnTuV4jI2NDeUDy7JzTzBGo4l/d+0FwP/O6Kr81H/4yC/4adFihgx8l91b/mbooH5Y6fWW7dNm/sC+/Qc5d/4iazZsxt/PFzs720znyU+ZQjyO8t29E3f1OA7eZTO85mhrxTc96zB/63n2notkZNfqXLkZz8/bL9KnZXmOXI4iNtFAkJ8LT5QuwZLdl7kRnURyqoluDUqx6kAIpT0dqODjxKoDmYdsAsRd+S/D75UrVaD78x1QVZV58+fTp08fdDodiYmJ3IyIoEyZMphMJsLCwijp74/O0m9/9xwxMTEcPnyYS5cvAQply5alVs2ad/4SMH8JKIqCXqfH39+f0NBQfH19sbW15cyZM1SsVAkbGxv69OnD/HnzGDRoEN27dGT2/IUPbMqG8PCblvsEBoMBk0nF2tp8s9vfz5dSpUpyZM8WANK+z/x8vTOdJzo6Bm9vT8vvX06YygxXF8aN/dTymr29HUMH9qPZU40p4epquWZ63d22wbWQ69y6HZWn
